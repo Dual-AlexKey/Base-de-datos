{
  "nbformat": 4,
  "nbformat_minor": 0,
  "metadata": {
    "colab": {
      "provenance": []
    },
    "kernelspec": {
      "name": "python3",
      "display_name": "Python 3"
    },
    "language_info": {
      "name": "python"
    }
  },
  "cells": [
    {
      "cell_type": "code",
      "execution_count": 1,
      "metadata": {
        "id": "lIR784Y-lsEh"
      },
      "outputs": [],
      "source": [
        "from pyspark.sql import SparkSession\n",
        "from pyspark.sql.functions import col, expr, mean, corr"
      ]
    },
    {
      "cell_type": "code",
      "source": [
        "spark = SparkSession.builder.appName(\"MODA-Notas\").getOrCreate()"
      ],
      "metadata": {
        "id": "3FIcl4Y2mTFF"
      },
      "execution_count": 90,
      "outputs": []
    },
    {
      "cell_type": "code",
      "source": [
        "csv_path = 'Online Sales Data.csv'"
      ],
      "metadata": {
        "id": "QJoMpPcwpedE"
      },
      "execution_count": 85,
      "outputs": []
    },
    {
      "cell_type": "code",
      "source": [
        "data_media = spark.read.csv(csv_path, header=True, inferSchema=True)\n"
      ],
      "metadata": {
        "id": "FO1eJP1btjqR"
      },
      "execution_count": 86,
      "outputs": []
    },
    {
      "cell_type": "code",
      "source": [
        "data_media.show()"
      ],
      "metadata": {
        "colab": {
          "base_uri": "https://localhost:8080/"
        },
        "id": "qBkT1dBwtmhJ",
        "outputId": "ef448828-e21f-4a97-968e-12e493fd4a73"
      },
      "execution_count": 87,
      "outputs": [
        {
          "output_type": "stream",
          "name": "stdout",
          "text": [
            "+--------------+----------+----------------+--------------------+----------+----------+-------------+-------------+--------------+\n",
            "|Transaction ID|      Date|Product Category|        Product Name|Units Sold|Unit Price|Total Revenue|       Region|Payment Method|\n",
            "+--------------+----------+----------------+--------------------+----------+----------+-------------+-------------+--------------+\n",
            "|         10001|2024-01-01|     Electronics|       iPhone 14 Pro|         2|    999.99|      1999.98|North America|   Credit Card|\n",
            "|         10002|2024-01-02| Home Appliances|    Dyson V11 Vacuum|         1|    499.99|       499.99|       Europe|        PayPal|\n",
            "|         10003|2024-01-03|        Clothing|    Levi's 501 Jeans|         3|     69.99|       209.97|         Asia|    Debit Card|\n",
            "|         10004|2024-01-04|           Books|   The Da Vinci Code|         4|     15.99|        63.96|North America|   Credit Card|\n",
            "|         10005|2024-01-05| Beauty Products|Neutrogena Skinca...|         1|     89.99|        89.99|       Europe|        PayPal|\n",
            "|         10006|2024-01-06|          Sports|Wilson Evolution ...|         5|     29.99|       149.95|         Asia|   Credit Card|\n",
            "|         10007|2024-01-07|     Electronics| MacBook Pro 16-inch|         1|   2499.99|      2499.99|North America|   Credit Card|\n",
            "|         10008|2024-01-08| Home Appliances|Blueair Classic 480i|         2|    599.99|      1199.98|       Europe|        PayPal|\n",
            "|         10009|2024-01-09|        Clothing|    Nike Air Force 1|         6|     89.99|       539.94|         Asia|    Debit Card|\n",
            "|         10010|2024-01-10|           Books|Dune by Frank Her...|         2|     25.99|        51.98|North America|   Credit Card|\n",
            "|         10011|2024-01-11| Beauty Products|Chanel No. 5 Perfume|         1|    129.99|       129.99|       Europe|        PayPal|\n",
            "|         10012|2024-01-12|          Sports|Babolat Pure Driv...|         3|    199.99|       599.97|         Asia|   Credit Card|\n",
            "|         10013|2024-01-13|     Electronics|Samsung Galaxy Ta...|         2|    749.99|      1499.98|North America|   Credit Card|\n",
            "|         10014|2024-01-14| Home Appliances|Keurig K-Elite Co...|         1|    189.99|       189.99|       Europe|        PayPal|\n",
            "|         10015|2024-01-15|        Clothing|North Face Down J...|         2|    249.99|       499.98|         Asia|    Debit Card|\n",
            "|         10016|2024-01-16|           Books|Salt, Fat, Acid, ...|         3|     35.99|       107.97|North America|   Credit Card|\n",
            "|         10017|2024-01-17| Beauty Products|Dyson Supersonic ...|         1|    399.99|       399.99|       Europe|        PayPal|\n",
            "|         10018|2024-01-18|          Sports|Manduka PRO Yoga Mat|         4|    119.99|       479.96|         Asia|   Credit Card|\n",
            "|         10019|2024-01-19|     Electronics|Garmin Forerunner...|         2|    499.99|       999.98|North America|   Credit Card|\n",
            "|         10020|2024-01-20| Home Appliances|Ninja Professiona...|         1|     99.99|        99.99|       Europe|        PayPal|\n",
            "+--------------+----------+----------------+--------------------+----------+----------+-------------+-------------+--------------+\n",
            "only showing top 20 rows\n",
            "\n"
          ]
        }
      ]
    },
    {
      "cell_type": "code",
      "source": [
        "data_media.select(mean(col(\"Total Revenue\")).alias(\"Total Revenue\")).collect()[0][0]"
      ],
      "metadata": {
        "colab": {
          "base_uri": "https://localhost:8080/"
        },
        "id": "5EZvEyLn0Qsx",
        "outputId": "b9f632bb-e6ba-408d-d356-8609d5aa3c31"
      },
      "execution_count": 98,
      "outputs": [
        {
          "output_type": "execute_result",
          "data": {
            "text/plain": [
              "335.6993750000003"
            ]
          },
          "metadata": {},
          "execution_count": 98
        }
      ]
    },
    {
      "cell_type": "code",
      "source": [
        "\n"
      ],
      "metadata": {
        "id": "eg8mt0WHoDvq"
      },
      "execution_count": null,
      "outputs": []
    }
  ]
}